{
 "cells": [
  {
   "cell_type": "code",
   "execution_count": 1,
   "metadata": {},
   "outputs": [],
   "source": [
    " import pymongo"
   ]
  },
  {
   "cell_type": "markdown",
   "metadata": {},
   "source": [
    "## Making a Connection with MongoClient"
   ]
  },
  {
   "cell_type": "code",
   "execution_count": 2,
   "metadata": {},
   "outputs": [],
   "source": [
    "# Import pymongo library\n",
    "from pymongo import MongoClient\n",
    "client = MongoClient()"
   ]
  },
  {
   "cell_type": "code",
   "execution_count": 3,
   "metadata": {},
   "outputs": [],
   "source": [
    "client = MongoClient('localhost', 27017)"
   ]
  },
  {
   "cell_type": "code",
   "execution_count": 4,
   "metadata": {},
   "outputs": [],
   "source": [
    "client = MongoClient('mongodb://localhost:27017/')"
   ]
  },
  {
   "cell_type": "markdown",
   "metadata": {},
   "source": [
    "## Check all available Databases"
   ]
  },
  {
   "cell_type": "code",
   "execution_count": 5,
   "metadata": {},
   "outputs": [
    {
     "data": {
      "text/plain": [
       "['admin', 'config', 'local']"
      ]
     },
     "execution_count": 5,
     "metadata": {},
     "output_type": "execute_result"
    }
   ],
   "source": [
    "dbnames = client.list_database_names()\n",
    "dbnames"
   ]
  },
  {
   "cell_type": "markdown",
   "metadata": {},
   "source": [
    "## Create a DataBase"
   ]
  },
  {
   "cell_type": "code",
   "execution_count": 6,
   "metadata": {},
   "outputs": [],
   "source": [
    "mydb = client[\"mydatabase\"]"
   ]
  },
  {
   "cell_type": "markdown",
   "metadata": {},
   "source": [
    "## Delete a Database"
   ]
  },
  {
   "cell_type": "code",
   "execution_count": 7,
   "metadata": {},
   "outputs": [
    {
     "data": {
      "text/plain": [
       "['admin', 'config', 'local']"
      ]
     },
     "execution_count": 7,
     "metadata": {},
     "output_type": "execute_result"
    }
   ],
   "source": [
    "client.drop_database('mydatabase')\n",
    "dbnames = client.list_database_names()\n",
    "dbnames"
   ]
  },
  {
   "cell_type": "markdown",
   "metadata": {},
   "source": [
    "## Create Collection in a Database"
   ]
  },
  {
   "cell_type": "code",
   "execution_count": 8,
   "metadata": {},
   "outputs": [],
   "source": [
    "mydb = client[\"mydatabase\"]\n",
    "mycol = mydb[\"customers\"]"
   ]
  },
  {
   "cell_type": "markdown",
   "metadata": {},
   "source": [
    "## Insert Document in Collection"
   ]
  },
  {
   "cell_type": "code",
   "execution_count": 9,
   "metadata": {},
   "outputs": [],
   "source": [
    "## Insert many\n",
    "mylist = [{ \"name\": \"Ram\", \"address\": \"Highway 37\", \"Phone no\": 9998887776,\"Salary\": 20000 },\n",
    "          {\"name\": \"Rahul\", \"address\": \"Jaipur\", \"Phone no\": 9998087776,\"Salary\": 15000 },\n",
    "          {\"name\": \"Bhawana\", \"address\": \"Gujrat\", \"Phone no\": 90998887776,\"Salary\": 30000 }]\n",
    "x = mycol.insert_many(mylist)"
   ]
  },
  {
   "cell_type": "code",
   "execution_count": 10,
   "metadata": {},
   "outputs": [],
   "source": [
    "## Insert one\n",
    "mydict={\"name\":\"Tarun\",\"address\": \"Mumbai\", \"Phone no\": 9990087776,\"Salary\": 29000}\n",
    "y = mycol.insert_one(mydict)"
   ]
  },
  {
   "cell_type": "code",
   "execution_count": 11,
   "metadata": {},
   "outputs": [],
   "source": [
    "## Give your own ids\n",
    "\n",
    "mylist1 = [\n",
    "  { \"_id\": 1, \"name\": \"Anjali\", \"address\": \"Faridabad\", \"Phone no\": 99985287776,\"Salary\": 50000},\n",
    "  { \"_id\": 2, \"name\": \"Sumit\", \"address\": \"Bihar\", \"Phone no\": 9996887776,\"Salary\": 2000},\n",
    "  { \"_id\": 3, \"name\": \"Alisha\", \"address\": \"Chandigarh\", \"Phone no\": 9908887776,\"Salary\": 55000},\n",
    "  { \"_id\": 4, \"name\": \"Vipin\", \"address\": \"Gurgaon\", \"Phone no\": 9098887076,\"Salary\": 10000},\n",
    "  { \"_id\": 5, \"name\": \"Manisha\", \"address\": \"Delhi\", \"Phone no\": 9698883776,\"Salary\": 23000},\n",
    "  { \"_id\": 6, \"name\": \"Sagar\", \"address\": \"Ambala\", \"Phone no\": 9998889976,\"Salary\": 26600},\n",
    "  { \"_id\": 7, \"name\": \"Rakesh\", \"address\": \"Himachal\", \"Phone no\": 9998677761,\"Salary\": 21000},\n",
    "  \n",
    "]\n",
    "\n",
    "z = mycol.insert_many(mylist1)"
   ]
  },
  {
   "cell_type": "markdown",
   "metadata": {},
   "source": [
    "## View Data from Collection"
   ]
  },
  {
   "cell_type": "code",
   "execution_count": 12,
   "metadata": {},
   "outputs": [
    {
     "data": {
      "text/plain": [
       "{'_id': ObjectId('5d48307d128740c2dc2896f8'),\n",
       " 'name': 'Ram',\n",
       " 'address': 'Highway 37',\n",
       " 'Phone no': 9998887776,\n",
       " 'Salary': 20000}"
      ]
     },
     "execution_count": 12,
     "metadata": {},
     "output_type": "execute_result"
    }
   ],
   "source": [
    "## for getting one row\n",
    "mycol.find_one()"
   ]
  },
  {
   "cell_type": "code",
   "execution_count": 13,
   "metadata": {},
   "outputs": [
    {
     "name": "stdout",
     "output_type": "stream",
     "text": [
      "{'_id': ObjectId('5d48307d128740c2dc2896f8'), 'name': 'Ram', 'address': 'Highway 37', 'Phone no': 9998887776, 'Salary': 20000}\n",
      "{'_id': ObjectId('5d48307d128740c2dc2896f9'), 'name': 'Rahul', 'address': 'Jaipur', 'Phone no': 9998087776, 'Salary': 15000}\n",
      "{'_id': ObjectId('5d48307d128740c2dc2896fa'), 'name': 'Bhawana', 'address': 'Gujrat', 'Phone no': 90998887776, 'Salary': 30000}\n",
      "{'_id': ObjectId('5d48307e128740c2dc2896fb'), 'name': 'Tarun', 'address': 'Mumbai', 'Phone no': 9990087776, 'Salary': 29000}\n",
      "{'_id': 1, 'name': 'Anjali', 'address': 'Faridabad', 'Phone no': 99985287776, 'Salary': 50000}\n",
      "{'_id': 2, 'name': 'Sumit', 'address': 'Bihar', 'Phone no': 9996887776, 'Salary': 2000}\n",
      "{'_id': 3, 'name': 'Alisha', 'address': 'Chandigarh', 'Phone no': 9908887776, 'Salary': 55000}\n",
      "{'_id': 4, 'name': 'Vipin', 'address': 'Gurgaon', 'Phone no': 9098887076, 'Salary': 10000}\n",
      "{'_id': 5, 'name': 'Manisha', 'address': 'Delhi', 'Phone no': 9698883776, 'Salary': 23000}\n",
      "{'_id': 6, 'name': 'Sagar', 'address': 'Ambala', 'Phone no': 9998889976, 'Salary': 26600}\n",
      "{'_id': 7, 'name': 'Rakesh', 'address': 'Himachal', 'Phone no': 9998677761, 'Salary': 21000}\n"
     ]
    }
   ],
   "source": [
    "## for getting all the rows\n",
    "for x in mycol.find():\n",
    "  print(x)"
   ]
  },
  {
   "cell_type": "code",
   "execution_count": 14,
   "metadata": {},
   "outputs": [
    {
     "name": "stdout",
     "output_type": "stream",
     "text": [
      "{'name': 'Ram', 'address': 'Highway 37'}\n",
      "{'name': 'Rahul', 'address': 'Jaipur'}\n",
      "{'name': 'Bhawana', 'address': 'Gujrat'}\n",
      "{'name': 'Tarun', 'address': 'Mumbai'}\n",
      "{'name': 'Anjali', 'address': 'Faridabad'}\n",
      "{'name': 'Sumit', 'address': 'Bihar'}\n",
      "{'name': 'Alisha', 'address': 'Chandigarh'}\n",
      "{'name': 'Vipin', 'address': 'Gurgaon'}\n",
      "{'name': 'Manisha', 'address': 'Delhi'}\n",
      "{'name': 'Sagar', 'address': 'Ambala'}\n",
      "{'name': 'Rakesh', 'address': 'Himachal'}\n"
     ]
    }
   ],
   "source": [
    "## Return Only Some Fields\n",
    "for x in mycol.find({},{ \"_id\": 0, \"name\": 1 ,\"address\": 1 }):\n",
    "  print(x)"
   ]
  },
  {
   "cell_type": "markdown",
   "metadata": {},
   "source": [
    "## Filter Data"
   ]
  },
  {
   "cell_type": "code",
   "execution_count": 15,
   "metadata": {},
   "outputs": [
    {
     "name": "stdout",
     "output_type": "stream",
     "text": [
      "{'_id': 4, 'name': 'Vipin', 'address': 'Gurgaon', 'Phone no': 9098887076, 'Salary': 10000}\n"
     ]
    }
   ],
   "source": [
    "## Filter results\n",
    "myquery = { \"address\": \"Gurgaon\" }\n",
    "mydoc = mycol.find(myquery)\n",
    "for x in mydoc:\n",
    "  print(x)"
   ]
  },
  {
   "cell_type": "code",
   "execution_count": 16,
   "metadata": {},
   "outputs": [
    {
     "name": "stdout",
     "output_type": "stream",
     "text": [
      "{'_id': ObjectId('5d48307d128740c2dc2896f8'), 'name': 'Ram', 'address': 'Highway 37', 'Phone no': 9998887776, 'Salary': 20000}\n",
      "{'_id': ObjectId('5d48307d128740c2dc2896f9'), 'name': 'Rahul', 'address': 'Jaipur', 'Phone no': 9998087776, 'Salary': 15000}\n",
      "{'_id': ObjectId('5d48307d128740c2dc2896fa'), 'name': 'Bhawana', 'address': 'Gujrat', 'Phone no': 90998887776, 'Salary': 30000}\n",
      "{'_id': ObjectId('5d48307e128740c2dc2896fb'), 'name': 'Tarun', 'address': 'Mumbai', 'Phone no': 9990087776, 'Salary': 29000}\n",
      "{'_id': 4, 'name': 'Vipin', 'address': 'Gurgaon', 'Phone no': 9098887076, 'Salary': 10000}\n",
      "{'_id': 7, 'name': 'Rakesh', 'address': 'Himachal', 'Phone no': 9998677761, 'Salary': 21000}\n"
     ]
    }
   ],
   "source": [
    "## Advanced Query\n",
    "myquery = { \"address\": { \"$gt\": \"G\" } }\n",
    "mydoc = mycol.find(myquery)\n",
    "for x in mydoc:\n",
    "  print(x)"
   ]
  },
  {
   "cell_type": "code",
   "execution_count": 17,
   "metadata": {},
   "outputs": [
    {
     "name": "stdout",
     "output_type": "stream",
     "text": [
      "{'_id': ObjectId('5d48307d128740c2dc2896fa'), 'name': 'Bhawana', 'address': 'Gujrat', 'Phone no': 90998887776, 'Salary': 30000}\n",
      "{'_id': 4, 'name': 'Vipin', 'address': 'Gurgaon', 'Phone no': 9098887076, 'Salary': 10000}\n"
     ]
    }
   ],
   "source": [
    "## Regular Expressions\n",
    "\n",
    "myquery = { \"address\": { \"$regex\": \"^G\" } }\n",
    "mydoc = mycol.find(myquery)\n",
    "for x in mydoc:\n",
    "  print(x)"
   ]
  },
  {
   "cell_type": "markdown",
   "metadata": {},
   "source": [
    "## Querying By ObjectId"
   ]
  },
  {
   "cell_type": "code",
   "execution_count": 18,
   "metadata": {},
   "outputs": [
    {
     "name": "stdout",
     "output_type": "stream",
     "text": [
      "{'Phone no': 99985287776,\n",
      " 'Salary': 50000,\n",
      " '_id': 1,\n",
      " 'address': 'Faridabad',\n",
      " 'name': 'Anjali'}\n"
     ]
    }
   ],
   "source": [
    "import pprint\n",
    "pprint.pprint(mycol.find_one({\"_id\": 1}))"
   ]
  },
  {
   "cell_type": "markdown",
   "metadata": {},
   "source": [
    "## Count Document"
   ]
  },
  {
   "cell_type": "code",
   "execution_count": 19,
   "metadata": {},
   "outputs": [
    {
     "data": {
      "text/plain": [
       "11"
      ]
     },
     "execution_count": 19,
     "metadata": {},
     "output_type": "execute_result"
    }
   ],
   "source": [
    "mycol.count_documents({})"
   ]
  },
  {
   "cell_type": "markdown",
   "metadata": {},
   "source": [
    "## Sort Document"
   ]
  },
  {
   "cell_type": "code",
   "execution_count": 20,
   "metadata": {},
   "outputs": [
    {
     "name": "stdout",
     "output_type": "stream",
     "text": [
      "{'_id': 3, 'name': 'Alisha', 'address': 'Chandigarh', 'Phone no': 9908887776, 'Salary': 55000}\n",
      "{'_id': 1, 'name': 'Anjali', 'address': 'Faridabad', 'Phone no': 99985287776, 'Salary': 50000}\n",
      "{'_id': ObjectId('5d48307d128740c2dc2896fa'), 'name': 'Bhawana', 'address': 'Gujrat', 'Phone no': 90998887776, 'Salary': 30000}\n",
      "{'_id': 5, 'name': 'Manisha', 'address': 'Delhi', 'Phone no': 9698883776, 'Salary': 23000}\n",
      "{'_id': ObjectId('5d48307d128740c2dc2896f9'), 'name': 'Rahul', 'address': 'Jaipur', 'Phone no': 9998087776, 'Salary': 15000}\n",
      "{'_id': 7, 'name': 'Rakesh', 'address': 'Himachal', 'Phone no': 9998677761, 'Salary': 21000}\n",
      "{'_id': ObjectId('5d48307d128740c2dc2896f8'), 'name': 'Ram', 'address': 'Highway 37', 'Phone no': 9998887776, 'Salary': 20000}\n",
      "{'_id': 6, 'name': 'Sagar', 'address': 'Ambala', 'Phone no': 9998889976, 'Salary': 26600}\n",
      "{'_id': 2, 'name': 'Sumit', 'address': 'Bihar', 'Phone no': 9996887776, 'Salary': 2000}\n",
      "{'_id': ObjectId('5d48307e128740c2dc2896fb'), 'name': 'Tarun', 'address': 'Mumbai', 'Phone no': 9990087776, 'Salary': 29000}\n",
      "{'_id': 4, 'name': 'Vipin', 'address': 'Gurgaon', 'Phone no': 9098887076, 'Salary': 10000}\n"
     ]
    }
   ],
   "source": [
    "# Ascending order\n",
    "mydoc = mycol.find().sort(\"name\")\n",
    "for x in mydoc:\n",
    "  print(x)"
   ]
  },
  {
   "cell_type": "code",
   "execution_count": 21,
   "metadata": {},
   "outputs": [
    {
     "name": "stdout",
     "output_type": "stream",
     "text": [
      "{'_id': 4, 'name': 'Vipin', 'address': 'Gurgaon', 'Phone no': 9098887076, 'Salary': 10000}\n",
      "{'_id': ObjectId('5d48307e128740c2dc2896fb'), 'name': 'Tarun', 'address': 'Mumbai', 'Phone no': 9990087776, 'Salary': 29000}\n",
      "{'_id': 2, 'name': 'Sumit', 'address': 'Bihar', 'Phone no': 9996887776, 'Salary': 2000}\n",
      "{'_id': 6, 'name': 'Sagar', 'address': 'Ambala', 'Phone no': 9998889976, 'Salary': 26600}\n",
      "{'_id': ObjectId('5d48307d128740c2dc2896f8'), 'name': 'Ram', 'address': 'Highway 37', 'Phone no': 9998887776, 'Salary': 20000}\n",
      "{'_id': 7, 'name': 'Rakesh', 'address': 'Himachal', 'Phone no': 9998677761, 'Salary': 21000}\n",
      "{'_id': ObjectId('5d48307d128740c2dc2896f9'), 'name': 'Rahul', 'address': 'Jaipur', 'Phone no': 9998087776, 'Salary': 15000}\n",
      "{'_id': 5, 'name': 'Manisha', 'address': 'Delhi', 'Phone no': 9698883776, 'Salary': 23000}\n",
      "{'_id': ObjectId('5d48307d128740c2dc2896fa'), 'name': 'Bhawana', 'address': 'Gujrat', 'Phone no': 90998887776, 'Salary': 30000}\n",
      "{'_id': 1, 'name': 'Anjali', 'address': 'Faridabad', 'Phone no': 99985287776, 'Salary': 50000}\n",
      "{'_id': 3, 'name': 'Alisha', 'address': 'Chandigarh', 'Phone no': 9908887776, 'Salary': 55000}\n"
     ]
    }
   ],
   "source": [
    "## Descending Order\n",
    "mydoc = mycol.find().sort(\"name\", -1)\n",
    "for x in mydoc:\n",
    "  print(x)"
   ]
  },
  {
   "cell_type": "markdown",
   "metadata": {},
   "source": [
    "## Update Document"
   ]
  },
  {
   "cell_type": "code",
   "execution_count": 22,
   "metadata": {},
   "outputs": [
    {
     "name": "stdout",
     "output_type": "stream",
     "text": [
      "{'_id': ObjectId('5d48307d128740c2dc2896f8'), 'name': 'Ram', 'address': 'Highway 37', 'Phone no': 9998887776, 'Salary': 20000}\n",
      "{'_id': ObjectId('5d48307d128740c2dc2896f9'), 'name': 'Rahul', 'address': 'Jaipur', 'Phone no': 9998087776, 'Salary': 15000}\n",
      "{'_id': ObjectId('5d48307d128740c2dc2896fa'), 'name': 'Bhawana', 'address': 'Gujrat', 'Phone no': 90998887776, 'Salary': 30000}\n",
      "{'_id': ObjectId('5d48307e128740c2dc2896fb'), 'name': 'Tarun', 'address': 'Mumbai', 'Phone no': 9990087776, 'Salary': 29000}\n",
      "{'_id': 1, 'name': 'Anjali', 'address': 'Faridabad', 'Phone no': 99985287776, 'Salary': 50000}\n",
      "{'_id': 2, 'name': 'Sumit', 'address': 'Bihar', 'Phone no': 9996887776, 'Salary': 2000}\n",
      "{'_id': 3, 'name': 'Alisha', 'address': 'Chandigarh', 'Phone no': 9908887776, 'Salary': 55000}\n",
      "{'_id': 4, 'name': 'Vipin', 'address': 'Gurgaon', 'Phone no': 9098887076, 'Salary': 10000}\n",
      "{'_id': 5, 'name': 'Manisha', 'address': 'Delhi', 'Phone no': 9698883776, 'Salary': 23000}\n",
      "{'_id': 6, 'name': 'Sagar', 'address': 'Goa', 'Phone no': 9998889976, 'Salary': 26600}\n",
      "{'_id': 7, 'name': 'Rakesh', 'address': 'Himachal', 'Phone no': 9998677761, 'Salary': 21000}\n"
     ]
    }
   ],
   "source": [
    "## update one row\n",
    "\n",
    "myquery = { \"address\": \"Ambala\" }\n",
    "newvalues = { \"$set\": { \"address\": \"Goa\" } }\n",
    "mycol.update_one(myquery, newvalues)\n",
    "for x in mycol.find():\n",
    "  print(x)"
   ]
  },
  {
   "cell_type": "code",
   "execution_count": 23,
   "metadata": {},
   "outputs": [
    {
     "name": "stdout",
     "output_type": "stream",
     "text": [
      "{'_id': ObjectId('5d48307d128740c2dc2896f8'), 'name': 'Ram', 'address': 'Highway 37', 'Phone no': 9998887776, 'Salary': 20000}\n",
      "{'_id': ObjectId('5d48307d128740c2dc2896f9'), 'name': 'Rahul', 'address': 'Jaipur', 'Phone no': 9998087776, 'Salary': 15000}\n",
      "{'_id': ObjectId('5d48307d128740c2dc2896fa'), 'name': 'Bhawana', 'address': 'Haryana', 'Phone no': 90998887776, 'Salary': 30000}\n",
      "{'_id': ObjectId('5d48307e128740c2dc2896fb'), 'name': 'Tarun', 'address': 'Mumbai', 'Phone no': 9990087776, 'Salary': 29000}\n",
      "{'_id': 1, 'name': 'Anjali', 'address': 'Faridabad', 'Phone no': 99985287776, 'Salary': 50000}\n",
      "{'_id': 2, 'name': 'Sumit', 'address': 'Bihar', 'Phone no': 9996887776, 'Salary': 2000}\n",
      "{'_id': 3, 'name': 'Alisha', 'address': 'Chandigarh', 'Phone no': 9908887776, 'Salary': 55000}\n",
      "{'_id': 4, 'name': 'Vipin', 'address': 'Haryana', 'Phone no': 9098887076, 'Salary': 10000}\n",
      "{'_id': 5, 'name': 'Manisha', 'address': 'Delhi', 'Phone no': 9698883776, 'Salary': 23000}\n",
      "{'_id': 6, 'name': 'Sagar', 'address': 'Haryana', 'Phone no': 9998889976, 'Salary': 26600}\n",
      "{'_id': 7, 'name': 'Rakesh', 'address': 'Himachal', 'Phone no': 9998677761, 'Salary': 21000}\n"
     ]
    }
   ],
   "source": [
    "## update many rows\n",
    "\n",
    "myquery = { \"address\": { \"$regex\": \"^G\" } }\n",
    "newvalues = { \"$set\": { \"address\": \"Haryana\" } }\n",
    "x = mycol.update_many(myquery, newvalues)\n",
    "for x in mycol.find():\n",
    "  print(x)"
   ]
  },
  {
   "cell_type": "markdown",
   "metadata": {},
   "source": [
    "## PyMongo Limit"
   ]
  },
  {
   "cell_type": "code",
   "execution_count": 24,
   "metadata": {},
   "outputs": [
    {
     "name": "stdout",
     "output_type": "stream",
     "text": [
      "{'_id': ObjectId('5d48307d128740c2dc2896f8'), 'name': 'Ram', 'address': 'Highway 37', 'Phone no': 9998887776, 'Salary': 20000}\n",
      "{'_id': ObjectId('5d48307d128740c2dc2896f9'), 'name': 'Rahul', 'address': 'Jaipur', 'Phone no': 9998087776, 'Salary': 15000}\n",
      "{'_id': ObjectId('5d48307d128740c2dc2896fa'), 'name': 'Bhawana', 'address': 'Haryana', 'Phone no': 90998887776, 'Salary': 30000}\n",
      "{'_id': ObjectId('5d48307e128740c2dc2896fb'), 'name': 'Tarun', 'address': 'Mumbai', 'Phone no': 9990087776, 'Salary': 29000}\n",
      "{'_id': 1, 'name': 'Anjali', 'address': 'Faridabad', 'Phone no': 99985287776, 'Salary': 50000}\n"
     ]
    }
   ],
   "source": [
    "myresult = mycol.find().limit(5)\n",
    "for x in myresult:\n",
    "  print(x)"
   ]
  },
  {
   "cell_type": "markdown",
   "metadata": {},
   "source": [
    "## Delete Document"
   ]
  },
  {
   "cell_type": "code",
   "execution_count": 25,
   "metadata": {},
   "outputs": [
    {
     "name": "stdout",
     "output_type": "stream",
     "text": [
      "0  documents deleted.\n"
     ]
    }
   ],
   "source": [
    "## Delete one row\n",
    "\n",
    "myquery = { \"address\": \"Ambala\" }\n",
    "y=mycol.delete_one(myquery)\n",
    "print(y.deleted_count, \" documents deleted.\")"
   ]
  },
  {
   "cell_type": "code",
   "execution_count": 26,
   "metadata": {},
   "outputs": [
    {
     "name": "stdout",
     "output_type": "stream",
     "text": [
      "2  documents deleted.\n"
     ]
    }
   ],
   "source": [
    "## Delete multiple rows\n",
    "\n",
    "myquery = { \"name\": {\"$regex\": \"^A\"} }\n",
    "x = mycol.delete_many(myquery)\n",
    "print(x.deleted_count, \" documents deleted.\")"
   ]
  },
  {
   "cell_type": "code",
   "execution_count": 27,
   "metadata": {},
   "outputs": [
    {
     "name": "stdout",
     "output_type": "stream",
     "text": [
      "9  documents deleted.\n"
     ]
    }
   ],
   "source": [
    "## delete all rows together\n",
    "\n",
    "x = mycol.delete_many({})\n",
    "print(x.deleted_count, \" documents deleted.\")"
   ]
  },
  {
   "cell_type": "markdown",
   "metadata": {},
   "source": [
    "## Drop Collection\n"
   ]
  },
  {
   "cell_type": "code",
   "execution_count": null,
   "metadata": {},
   "outputs": [],
   "source": [
    "mycol.drop()"
   ]
  },
  {
   "cell_type": "code",
   "execution_count": 28,
   "metadata": {},
   "outputs": [],
   "source": [
    "# End"
   ]
  }
 ],
 "metadata": {
  "kernelspec": {
   "display_name": "Python 3",
   "language": "python",
   "name": "python3"
  },
  "language_info": {
   "codemirror_mode": {
    "name": "ipython",
    "version": 3
   },
   "file_extension": ".py",
   "mimetype": "text/x-python",
   "name": "python",
   "nbconvert_exporter": "python",
   "pygments_lexer": "ipython3",
   "version": "3.6.8"
  }
 },
 "nbformat": 4,
 "nbformat_minor": 2
}
